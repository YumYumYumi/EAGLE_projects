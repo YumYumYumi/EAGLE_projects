{
 "cells": [
  {
   "cell_type": "markdown",
   "id": "d2b88137-13df-4dec-82a0-65605ca021ba",
   "metadata": {},
   "source": [
    "# Training data (Label data) preparation"
   ]
  },
  {
   "cell_type": "markdown",
   "id": "365a24ae-f0f5-4c9a-9066-36b58fd6f87a",
   "metadata": {},
   "source": [
    "This Notebook is used in preparation for the script 'croptype_mapping_using_LightGMB.ipynb'. \\\n",
    "Here, we load and prepare an already classified training dataset of South Africa Crop Type Competition from Radient MLHub. \\\n",
    "Source : https://mlhub.earth/data/ref_south_africa_crops_competition_v1 \\\n",
    "It was been downloaded beforehand using the provided script: https://github.com/radiantearth/mlhub-tutorials/blob/main/notebooks/South%20Africa%20Crop%20Types%20Competition/south_africa_crop_type_competition_load_asset_paths.ipynb \\\n",
    "This training dataset will be used in the main script to train a LightGBM Classification Model."
   ]
  },
  {
   "cell_type": "markdown",
   "id": "3559694a-3ee8-4631-8b05-6f769dc25c7c",
   "metadata": {},
   "source": [
    "## Load packages"
   ]
  },
  {
   "cell_type": "code",
   "execution_count": 1,
   "id": "d8ede630-2f60-47c7-b7cd-64ad7647bb04",
   "metadata": {
    "tags": []
   },
   "outputs": [],
   "source": [
    "import json\n",
    "import os\n",
    "from shapely.geometry import Polygon, box\n",
    "from glob import glob\n",
    "import rioxarray as rio\n",
    "from rioxarray.merge import merge_arrays\n",
    "import matplotlib.pyplot as plt"
   ]
  },
  {
   "cell_type": "markdown",
   "id": "105529c7-e23d-4ebe-9ca0-bb40705c2a3d",
   "metadata": {},
   "source": [
    "## Extract training data "
   ]
  },
  {
   "cell_type": "markdown",
   "id": "2f62795b-a60c-4873-878f-bc415c7a8961",
   "metadata": {},
   "source": [
    "We use this predefined area as bounding box, as this is part of the overlapping area between the training data and the available Sentinel-2 data in the SALDi cube. \\\n",
    "Only certain amount of training data will be used (roughly 50 - 60 data). "
   ]
  },
  {
   "cell_type": "code",
   "execution_count": 2,
   "id": "90e82571-5d5b-4e26-9293-ddeabf2524d0",
   "metadata": {
    "tags": []
   },
   "outputs": [
    {
     "name": "stdout",
     "output_type": "stream",
     "text": [
      "Number of training data tiles: 52\n"
     ]
    }
   ],
   "source": [
    "# find all the directories containing bbox of training data. \n",
    "train_label_subdirectories = glob(\"/home/datacube/work/data/yumyumyumi/project/ref_south_africa_crops_competition_v1_train_labels/*/\", recursive = True)\n",
    "train_label_subdirectories.remove('/home/datacube/work/data/yumyumyumi/project/ref_south_africa_crops_competition_v1_train_labels/_common/')\n",
    "\n",
    "# set the bbox and add a buffer to use shapely contains function and get about 50 training data tiles from the whole dataset. \n",
    "my_bbox_shapely = box(18.938369750976562,  -33.625197399207, 19.03003692626953, -33.52880293198198).buffer(0.08)\n",
    "\n",
    "training_file_list_inside_bbox = list()\n",
    "\n",
    "for sub in train_label_subdirectories:\n",
    "    json_file = json.load(open(sub + 'stac.json'))\n",
    "    json_file_bbox = tuple(json_file['bbox'])\n",
    "    minx, miny, maxx, maxy = json_file_bbox\n",
    "    train_bbox_shapely = box(minx, miny, maxx, maxy)\n",
    "    if my_bbox_shapely.contains(train_bbox_shapely): \n",
    "        training_file_list_inside_bbox.append(sub)\n",
    "\n",
    "print('Number of training data tiles:', len(training_file_list_inside_bbox))"
   ]
  },
  {
   "cell_type": "code",
   "execution_count": 3,
   "id": "a3a43075-2c00-49cf-b5b5-9daa923b359f",
   "metadata": {},
   "outputs": [],
   "source": [
    "# open the training tifs and save them in a list\n",
    "training_tifs = []\n",
    "for i in range(0,len(training_file_list_inside_bbox)):\n",
    "    data = rio.open_rasterio(training_file_list_inside_bbox[i] + 'labels.tif')\n",
    "    training_tifs.append(data)\n"
   ]
  },
  {
   "cell_type": "code",
   "execution_count": 4,
   "id": "300db182-beba-4209-af53-a5b1f7083868",
   "metadata": {},
   "outputs": [
    {
     "name": "stdout",
     "output_type": "stream",
     "text": [
      "Stored 'training_tifs' (list)\n"
     ]
    }
   ],
   "source": [
    "# save it as a global variable to use it in the other Notebook\n",
    "%store training_tifs"
   ]
  }
 ],
 "metadata": {
  "kernelspec": {
   "display_name": "Python 3 (ipykernel)",
   "language": "python",
   "name": "python3"
  },
  "language_info": {
   "codemirror_mode": {
    "name": "ipython",
    "version": 3
   },
   "file_extension": ".py",
   "mimetype": "text/x-python",
   "name": "python",
   "nbconvert_exporter": "python",
   "pygments_lexer": "ipython3",
   "version": "3.9.7"
  }
 },
 "nbformat": 4,
 "nbformat_minor": 5
}
